{
  "nbformat": 4,
  "nbformat_minor": 0,
  "metadata": {
    "colab": {
      "provenance": [],
      "authorship_tag": "ABX9TyPv1GTXNl/jdNV+1lpPaidK",
      "include_colab_link": true
    },
    "kernelspec": {
      "name": "python3",
      "display_name": "Python 3"
    },
    "language_info": {
      "name": "python"
    }
  },
  "cells": [
    {
      "cell_type": "markdown",
      "metadata": {
        "id": "view-in-github",
        "colab_type": "text"
      },
      "source": [
        "<a href=\"https://colab.research.google.com/github/park-hyun-wook/Chungnam_automobile_course_0623/blob/main/0701_%EC%9E%90%EB%8F%99%EC%B0%A8_%EC%88%98%EC%97%85.ipynb\" target=\"_parent\"><img src=\"https://colab.research.google.com/assets/colab-badge.svg\" alt=\"Open In Colab\"/></a>"
      ]
    },
    {
      "cell_type": "markdown",
      "source": [
        "1"
      ],
      "metadata": {
        "id": "3OiUpMT8cw8q"
      }
    },
    {
      "cell_type": "code",
      "execution_count": 27,
      "metadata": {
        "id": "0mnwkTm_cvou"
      },
      "outputs": [],
      "source": [
        "def init_sensors():\n",
        "  print (\"센서 시작\")\n",
        "  sensors = {\n",
        "    \"앞\": 15.0,\n",
        "    \"왼쪽\": 15.0,\n",
        "    \"오른쪽\" : 15.0\n",
        "   }\n",
        "  return sensors"
      ]
    },
    {
      "cell_type": "markdown",
      "source": [
        "2"
      ],
      "metadata": {
        "id": "L-jgRojmxrD6"
      }
    },
    {
      "cell_type": "code",
      "source": [
        "def scan_front(x, y, obstacles, sensors):\n",
        "    print (\"2-04 앞쪽 스캔 시작\")\n",
        "    if (x, y + 1) in obstacles:\n",
        "        print (\"2-06 앞쪽 1칸 장애물 발견\")\n",
        "        sensors[\"앞\"] = 1.0\n",
        "    elif (x, y + 2) in obstacles:\n",
        "        print(\"2-10 앞쪽 2칸 장애물 발견\")\n",
        "        sensors[\"앞\"] = 2.0\n",
        "    elif (x, y + 3) in obstacles:\n",
        "        print (\"2-13 앞쪽 3칸 장애물 발견\")\n",
        "        sensors[\"앞\"] = 3.0\n",
        "    else:\n",
        "        print(\"2-15 앞쪽 장애물 없음 (센서값 15.0 유지)\")\n",
        "        sensors[\"앞\"] = 15.0\n",
        "print (\"2-16 앞쪽 스캔 완료\")"
      ],
      "metadata": {
        "colab": {
          "base_uri": "https://localhost:8080/"
        },
        "id": "POVg2WxljION",
        "outputId": "e5200181-dcfa-4e99-f4c8-33b92bd5ee92"
      },
      "execution_count": 30,
      "outputs": [
        {
          "output_type": "stream",
          "name": "stdout",
          "text": [
            "2-16 앞쪽 스캔 완료\n"
          ]
        }
      ]
    },
    {
      "cell_type": "markdown",
      "source": [
        "3"
      ],
      "metadata": {
        "id": "f3SOIhUExtBY"
      }
    },
    {
      "cell_type": "code",
      "source": [
        "def scan_left(x, y, obstacles, sensors):\n",
        "    print(\"print 3-4 왼쪽 스캔 시작\")\n",
        "\n",
        "    if (x - 1, y) in obstacles:\n",
        "        sensors[\"왼쪽\"] = 1.0\n",
        "        print(\"print 3-7 왼쪽 1칸 장애물 발견\")\n",
        "\n",
        "    elif (x - 2, y) in obstacles:\n",
        "        sensors[\"왼쪽\"] = 2.0\n",
        "        print(\"print 3-10 왼쪽 2칸 장애물 발견\")\n",
        "\n",
        "    elif (x - 3, y) in obstacles:\n",
        "        sensors[\"왼쪽\"] = 3.0\n",
        "        print(\"print 3-13 왼쪽 3칸 장애물 발견\")\n",
        "\n",
        "    else:\n",
        "        sensors[\"왼쪽\"] = 15.0\n",
        "        print(\"print 3-15 왼쪽 장애물 없음, 센서값 15.0 유지\")\n",
        "\n",
        "    print(\"print 4-4 왼쪽 스캔 완료\")"
      ],
      "metadata": {
        "id": "ozYUn0Poxujx"
      },
      "execution_count": 39,
      "outputs": []
    }
  ]
}