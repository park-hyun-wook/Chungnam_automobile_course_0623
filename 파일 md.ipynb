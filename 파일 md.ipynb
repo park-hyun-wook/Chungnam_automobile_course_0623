{
  "cells": [
    {
      "cell_type": "markdown",
      "metadata": {
        "id": "view-in-github",
        "colab_type": "text"
      },
      "source": [
        "<a href=\"https://colab.research.google.com/github/park-hyun-wook/Chungnam_automobile_course_0623/blob/main/%ED%8C%8C%EC%9D%BC%20md.ipynb\" target=\"_parent\"><img src=\"https://colab.research.google.com/assets/colab-badge.svg\" alt=\"Open In Colab\"/></a>"
      ]
    },
    {
      "cell_type": "markdown",
      "source": [],
      "metadata": {
        "id": "OvRI8rewxLfY"
      }
    },
    {
      "cell_type": "markdown",
      "source": [
        "📘 OpenCV 기초 정리\n",
        "✅ 목차\n",
        "OpenCV란?\n",
        "\n",
        "1-1 OpenCV의 정의\n",
        "1-2 OpenCV의 특징\n",
        "1-3 주요 활용 분야\n",
        "1-4 구조 및 모듈 구성\n",
        "OpenCV에 필요한 라이브러리들\n",
        "\n",
        "2-1 opencv-python vs opencv-contrib-python\n",
        "2-2 NumPy와 OpenCV의 관계\n",
        "2-3 Matplotlib과 함께 사용하는 이유\n",
        "2-4 Pillow의 역할\n",
        "OpenCV 자주 나오는 용어 정리\n",
        "\n",
        "1. OpenCV란?\n",
        "1-1 OpenCV의 정의\n",
        "OpenCV(Open Source Computer Vision Library)는 실시간 컴퓨터 비전 및 이미지 처리 기능을 제공하는 오픈소스 라이브러리.\n",
        "C++, Python, Java 등 다양한 언어를 지원하고, 크로스 플랫폼으로 사용 가능.\n",
        "\n",
        "1-2 OpenCV의 특징\n",
        "오픈소스이자 무료\n",
        "실시간 영상 처리 성능 우수\n",
        "다양한 이미지/영상 처리 함수 제공\n",
        "머신러닝, 딥러닝과 연동 가능\n",
        "다양한 플랫폼(CPU, GPU, 모바일) 지원\n",
        "1-3 주요 활용 분야\n",
        "객체 인식 및 추적\n",
        "얼굴 인식, OCR(문자 인식)\n",
        "자율주행 차량 비전 시스템\n",
        "로봇 비전\n",
        "증강현실(AR) 기술\n",
        "1-4 구조 및 모듈 구성\n",
        "core: 기본 데이터 구조와 연산 기능\n",
        "imgproc: 이미지 처리 기능 (블러, 필터 등)\n",
        "highgui: GUI 및 이미지 입출력\n",
        "video: 동영상 처리 기능\n",
        "objdetect: 객체 탐지 (ex. 얼굴 인식)\n",
        "ml: 머신러닝 기능\n",
        "contrib: 추가 기능 (SIFT, SURF 등)\n",
        "2. OpenCV에 필요한 라이브러리들\n",
        "라이브러리\t설명\t설치 명령어\n",
        "opencv-python\tOpenCV의 Python 버전\tpip install opencv-python\n",
        "numpy\t이미지를 NumPy 배열로 처리\tpip install numpy\n",
        "matplotlib\t이미지 출력 및 디버깅용 시각화\tpip install matplotlib\n",
        "opencv-contrib-python\tSIFT, SURF 등 고급 모듈 포함\tpip install opencv-contrib-python\n",
        "Pillow\t이미지 저장 및 변환\tpip install pillow\n",
        "2-1 opencv-python vs opencv-contrib-python\n",
        "opencv-python: 기본적인 이미지/영상 처리 기능 제공\n",
        "opencv-contrib-python: SIFT, SURF, DNN 등 고급 알고리즘 포함\n",
        "2-2 NumPy와 OpenCV의 관계\n",
        "OpenCV는 이미지를 NumPy 배열로 표현하고, 모든 처리 결과도 배열로 반환\n",
        "\n",
        "2-3 Matplotlib과 함께 사용하는 이유\n",
        "디버깅 중 이미지 결과를 시각화하거나 비교할 때 유용하며, Colab이나 Jupyter 환경에서 출력이 간편\n",
        "\n",
        "2-4 Pillow의 역할\n",
        "이미지를 다양한 포맷으로 저장하거나, 파일 변환 및 필터링 작업 수행\n",
        "\n",
        "3. OpenCV 자주 나오는 용어 정리\n",
        "용어\t의미\n",
        "BGR\tOpenCV의 기본 색상 순서 (Blue, Green, Red)\n",
        "ROI\tRegion of Interest: 관심 영역\n",
        "Threshold\t이미지 이진화 시 임계값 기준 설정\n",
        "Morphology\t팽창, 침식 등 형태학적 연산\n",
        "Kernel\t이미지 처리 시 사용하는 작은 행렬(마스크)\n",
        "Contour\t윤곽선: 이미지에서 객체 경계 검출\n",
        "Cascade\t사전 학습된 객체 탐지기 (ex. 얼굴 인식용)\n",
        "Grayscale\t흑백 이미지 (1채널)\n",
        "FPS\tFrame Per Second: 초당 프레임 수\n",
        "HSV\t색상(H), 채도(S), 명도(V) 색상공간\n"
      ],
      "metadata": {
        "id": "QO9NGHQexJqA"
      }
    },
    {
      "cell_type": "markdown",
      "source": [
        "3. OpenCV 자주 나오는 용어 정리\n",
        "용어\t의미\n",
        "\n",
        "BGR\tOpenCV의 기본 색상 순서 (Blue, Green, Red)\n",
        "\n",
        "ROI\tRegion of Interest: 관심 영역\n",
        "\n",
        "Threshold\t이미지 이진화 시 임계값 기준 설정\n",
        "\n",
        "Morphology\t팽창, 침식 등 형태학적 연산\n",
        "\n",
        "Kernel\t이미지 처리 시 사용하는 작은 행렬(마스크)\n",
        "\n",
        "Contour\t윤곽선: 이미지에서 객체 경계 검출\n",
        "\n",
        "Cascade\t사전 학습된 객체 탐지기 (ex. 얼굴 인식용)\n",
        "\n",
        "Grayscale\t흑백 이미지 (1채널)\n",
        "\n",
        "FPS\tFrame Per Second: 초당 프레임 수\n",
        "\n",
        "HSV\t색상(H), 채도(S), 명도(V) 색상공간"
      ],
      "metadata": {
        "id": "WttoKev7xT28"
      }
    }
  ],
  "metadata": {
    "colab": {
      "name": "Colab 시작하기",
      "provenance": [],
      "include_colab_link": true
    },
    "kernelspec": {
      "display_name": "Python 3",
      "name": "python3"
    }
  },
  "nbformat": 4,
  "nbformat_minor": 0
}