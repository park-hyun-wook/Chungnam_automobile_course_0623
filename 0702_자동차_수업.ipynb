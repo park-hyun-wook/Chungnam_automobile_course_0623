{
  "nbformat": 4,
  "nbformat_minor": 0,
  "metadata": {
    "colab": {
      "provenance": [],
      "authorship_tag": "ABX9TyMp4ALdAddVpUnlL0z2hcKu",
      "include_colab_link": true
    },
    "kernelspec": {
      "name": "python3",
      "display_name": "Python 3"
    },
    "language_info": {
      "name": "python"
    }
  },
  "cells": [
    {
      "cell_type": "markdown",
      "metadata": {
        "id": "view-in-github",
        "colab_type": "text"
      },
      "source": [
        "<a href=\"https://colab.research.google.com/github/park-hyun-wook/Chungnam_automobile_course_0623/blob/main/0702_%EC%9E%90%EB%8F%99%EC%B0%A8_%EC%88%98%EC%97%85.ipynb\" target=\"_parent\"><img src=\"https://colab.research.google.com/assets/colab-badge.svg\" alt=\"Open In Colab\"/></a>"
      ]
    },
    {
      "cell_type": "markdown",
      "source": [
        "1. 센서 데이터"
      ],
      "metadata": {
        "id": "i2xP99Bsm5dM"
      }
    },
    {
      "cell_type": "code",
      "source": [
        "# 1. 함수 시작\n",
        "def update_sensor_data(position, obstacles):\n",
        "    # 2. 디버그 출력\n",
        "    print(\"5-4 함수 시작\")\n",
        "\n",
        "    # 3. 위치 데이터 추출\n",
        "    x = position['x']\n",
        "    y = position['y']\n",
        "\n",
        "    # 4. 디버그 출력\n",
        "    print(\"5-6 위치 추출 완료\")\n",
        "\n",
        "    # 5. 디버그 출력\n",
        "    print(f\"5-7 현재 x: {x}, y: {y}\")\n",
        "\n",
        "    # 6. 센서 초기화 호출\n",
        "    sensors = init_sensors()  # 모든 센서를 15.0으로 설정\n",
        "\n",
        "    # 7. 앞쪽 스캔 호출\n",
        "    scan_front(x, y, obstacles, sensors)\n",
        "\n",
        "    # 8. 왼쪽 스캔 호출\n",
        "    scan_left(x, y, obstacles, sensors)\n",
        "\n",
        "    # 9. 오른쪽 스캔 호출\n",
        "    scan_right(x, y, obstacles, sensors)\n",
        "\n",
        "    # 10. 디버그 출력\n",
        "    print(\"5-17 센서 업데이트 완료\")\n",
        "    print(\"최종 센서 데이터 출력:\", sensors)\n",
        "\n",
        "    # 11. 반환\n",
        "    return sensors\n",
        "\n",
        "# 보조 함수 정의들 (실행 순서에 맞춰 함께 배치)\n",
        "\n",
        "# ⬅ 6단계에서 호출됨\n",
        "def init_sensors():\n",
        "    # 모든 센서 거리를 15.0으로 초기화\n",
        "    return {'front': 15.0, 'left': 15.0, 'right': 15.0}\n",
        "\n",
        "# 7단계에서 호출됨\n",
        "def scan_front(x, y, obstacles, sensors):\n",
        "    for i in range(1, 4):  # 앞쪽 1~3칸 확인\n",
        "        if (x + i, y) in obstacles:\n",
        "            sensors['front'] = i\n",
        "            break\n",
        "\n",
        "# 8단계에서 호출됨\n",
        "def scan_left(x, y, obstacles, sensors):\n",
        "    for i in range(1, 4):  # 왼쪽 1~3칸 확인\n",
        "        if (x, y - i) in obstacles:\n",
        "            sensors['left'] = i\n",
        "            break\n",
        "\n",
        "# 9단계에서 호출됨\n",
        "def scan_right(x, y, obstacles, sensors):\n",
        "    for i in range(1, 4):  # 오른쪽 1~3칸 확인\n",
        "        if (x, y + i) in obstacles:\n",
        "            sensors['right'] = i\n",
        "            break\n",
        "\n",
        "# 테스트 실행 예시\n",
        "position = {'x': 2, 'y': 2}\n",
        "obstacles = [(3, 2), (2, 0), (2, 4)]  # 앞, 왼, 오른에 각각 장애물\n",
        "\n",
        "sensors = update_sensor_data(position, obstacles)\n",
        "print(\"감지된 센서 값:\", sensors)\n"
      ],
      "metadata": {
        "colab": {
          "base_uri": "https://localhost:8080/"
        },
        "id": "gHy2OdTEvLFr",
        "outputId": "ef34d05f-41d5-410b-ae4b-9b9d4124229e"
      },
      "execution_count": 13,
      "outputs": [
        {
          "output_type": "stream",
          "name": "stdout",
          "text": [
            "5-4 함수 시작\n",
            "5-6 위치 추출 완료\n",
            "5-7 현재 x: 2, y: 2\n",
            "5-17 센서 업데이트 완료\n",
            "최종 센서 데이터 출력: {'front': 1, 'left': 2, 'right': 2}\n",
            "감지된 센서 값: {'front': 1, 'left': 2, 'right': 2}\n"
          ]
        }
      ]
    },
    {
      "cell_type": "code",
      "source": [
        "def init_sensors():\n",
        "    return {'front': 15.0, 'left': 15.0, 'right': 15.0}\n",
        "\n",
        "def scan_front(x, y, obstacles, sensors):\n",
        "    for i in range(1, 4):\n",
        "        if (x + i, y) in obstacles:\n",
        "            sensors['front'] = i\n",
        "            break\n",
        "\n",
        "def scan_left(x, y, obstacles, sensors):\n",
        "    for i in range(1, 4):\n",
        "        if (x, y - i) in obstacles:\n",
        "            sensors['left'] = i\n",
        "            break\n",
        "\n",
        "def scan_right(x, y, obstacles, sensors):\n",
        "    for i in range(1, 4):\n",
        "        if (x, y + i) in obstacles:\n",
        "            sensors['right'] = i\n",
        "            break\n",
        "\n",
        "\n",
        "def update_sensor_data(position, obstacles):\n",
        "    print(\"5-4 함수 시작\")\n",
        "\n",
        "    x = position['x']\n",
        "    y = position['y']\n",
        "    print(\"5-6 위치 추출 완료\")\n",
        "    print(f\"5-7 현재 x: {x}, y: {y}\")\n",
        "\n",
        "    sensors = init_sensors()\n",
        "    scan_front(x, y, obstacles, sensors)\n",
        "    scan_left(x, y, obstacles, sensors)\n",
        "    scan_right(x, y, obstacles, sensors)\n",
        "\n",
        "    print(\"5-17 센서 업데이트 완료\")\n",
        "    print(\"최종 센서 데이터 출력:\", sensors)\n",
        "    return sensors\n",
        "\n",
        "\n",
        "def select_path(sensors, safe_distance):\n",
        "    print(\"6-1 함수 시작\")\n",
        "    print(\"6-2 센서 값 사용:\", sensors)\n",
        "\n",
        "    selection = []\n",
        "\n",
        "    for direction, distance in sensors.items():\n",
        "        print(f\"6-4 현재 {direction} 방향 거리: {distance}\")\n",
        "\n",
        "        if distance <= safe_distance:\n",
        "            selection.append(direction)\n",
        "            print(f\"6-5 {direction} 방향이 안전하여 추가됨\")\n",
        "        else:\n",
        "            print(f\"6-6 {direction} 방향은 너무 가까움\")\n",
        "\n",
        "    if selection:\n",
        "        print(\"6-7 선택된 안전 방향 있음\")\n",
        "    else:\n",
        "        print(\"6-7 선택된 안전 방향 없음\")\n",
        "\n",
        "    return selection\n",
        "\n",
        "position = {'x': 2, 'y': 2}\n",
        "obstacles = [(3, 2), (2, 4), (2, 0)]\n",
        "safe_distance = 10\n",
        "\n",
        "sensors = update_sensor_data(position, obstacles)\n",
        "safe_paths = select_path(sensors, safe_distance)\n",
        "\n",
        "print(\"안전한 방향들:\", safe_paths)\n"
      ],
      "metadata": {
        "colab": {
          "base_uri": "https://localhost:8080/"
        },
        "id": "vO6IL61KyXiz",
        "outputId": "e798d269-df7d-4dd6-b11e-eeb402e7921c"
      },
      "execution_count": 18,
      "outputs": [
        {
          "output_type": "stream",
          "name": "stdout",
          "text": [
            "5-4 함수 시작\n",
            "5-6 위치 추출 완료\n",
            "5-7 현재 x: 2, y: 2\n",
            "5-17 센서 업데이트 완료\n",
            "최종 센서 데이터 출력: {'front': 1, 'left': 2, 'right': 2}\n",
            "6-1 함수 시작\n",
            "6-2 센서 값 사용: {'front': 1, 'left': 2, 'right': 2}\n",
            "6-4 현재 front 방향 거리: 1\n",
            "6-5 front 방향이 안전하여 추가됨\n",
            "6-4 현재 left 방향 거리: 2\n",
            "6-5 left 방향이 안전하여 추가됨\n",
            "6-4 현재 right 방향 거리: 2\n",
            "6-5 right 방향이 안전하여 추가됨\n",
            "6-7 선택된 안전 방향 있음\n",
            "안전한 방향들: ['front', 'left', 'right']\n"
          ]
        }
      ]
    }
  ]
}