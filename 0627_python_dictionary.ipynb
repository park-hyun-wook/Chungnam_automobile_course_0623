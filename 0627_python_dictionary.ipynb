{
  "nbformat": 4,
  "nbformat_minor": 0,
  "metadata": {
    "colab": {
      "provenance": [],
      "authorship_tag": "ABX9TyOeNhMoBCUkWXZ6DSnVSkNH",
      "include_colab_link": true
    },
    "kernelspec": {
      "name": "python3",
      "display_name": "Python 3"
    },
    "language_info": {
      "name": "python"
    }
  },
  "cells": [
    {
      "cell_type": "markdown",
      "metadata": {
        "id": "view-in-github",
        "colab_type": "text"
      },
      "source": [
        "<a href=\"https://colab.research.google.com/github/park-hyun-wook/Chungnam_automobile_course_0623/blob/main/0627_python_dictionary.ipynb\" target=\"_parent\"><img src=\"https://colab.research.google.com/assets/colab-badge.svg\" alt=\"Open In Colab\"/></a>"
      ]
    },
    {
      "cell_type": "markdown",
      "source": [
        "# 1. 센서 데이터 필터링 - 안전 거리 이상의 장애물만 추출"
      ],
      "metadata": {
        "id": "UCCSISFYHyFH"
      }
    },
    {
      "cell_type": "code",
      "source": [
        "# 1. 센서 데이터 필터링 - 안전 거리 이상의 장애물만 추출\n",
        "sensor_distances = [2.5, 8.3, 1.2, 15.7, 3.8, 0.9, 12.4, 6.1]\n",
        "safe_distances = [dist for dist in sensor_distances if dist > 5.0]\n",
        "print(\"안전 거리 이상 장애물:\", safe_distances)\n",
        "\n"
      ],
      "metadata": {
        "colab": {
          "base_uri": "https://localhost:8080/"
        },
        "id": "jYRO2l8fHwKR",
        "outputId": "45d80e14-1960-41b5-904c-1bea10c2568c"
      },
      "execution_count": 1,
      "outputs": [
        {
          "output_type": "stream",
          "name": "stdout",
          "text": [
            "안전 거리 이상 장애물: [8.3, 15.7, 12.4, 6.1]\n"
          ]
        }
      ]
    },
    {
      "cell_type": "markdown",
      "source": [
        "# 2. 좌표 변환 - 상대 좌표를 절대 좌표로 변환"
      ],
      "metadata": {
        "id": "q9TIFjDgKfXa"
      }
    },
    {
      "cell_type": "code",
      "source": [
        "# 2. 좌표 변환 - 상대 좌표를 절대 좌표로 변환\n",
        "vehicle_position = (10, 20)  # 차량 현재 위치\n",
        "relative_points = [(1, 2), (-3, 4), (5, -1), (0, 3)]\n",
        "absolute_points = [(x + vehicle_position[0], y + vehicle_position[1])\n",
        "                   for x, y in relative_points]\n",
        "print(\"절대 좌표:\", absolute_points)\n",
        "\n"
      ],
      "metadata": {
        "colab": {
          "base_uri": "https://localhost:8080/"
        },
        "id": "rrrtxfHTKjiG",
        "outputId": "95dc3fe1-1a6f-434c-95ec-1e8a8e98b5fb"
      },
      "execution_count": 2,
      "outputs": [
        {
          "output_type": "stream",
          "name": "stdout",
          "text": [
            "절대 좌표: [(11, 22), (7, 24), (15, 19), (10, 23)]\n"
          ]
        }
      ]
    },
    {
      "cell_type": "markdown",
      "source": [],
      "metadata": {
        "id": "emCQNlgdK1gz"
      }
    },
    {
      "cell_type": "code",
      "source": [],
      "metadata": {
        "id": "vIkuBuB2K2WX"
      },
      "execution_count": null,
      "outputs": []
    }
  ]
}