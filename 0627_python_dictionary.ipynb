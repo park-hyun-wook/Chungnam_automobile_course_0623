{
  "nbformat": 4,
  "nbformat_minor": 0,
  "metadata": {
    "colab": {
      "provenance": [],
      "authorship_tag": "ABX9TyOKvFcyRZEIHoitwq4UUiup",
      "include_colab_link": true
    },
    "kernelspec": {
      "name": "python3",
      "display_name": "Python 3"
    },
    "language_info": {
      "name": "python"
    }
  },
  "cells": [
    {
      "cell_type": "markdown",
      "metadata": {
        "id": "view-in-github",
        "colab_type": "text"
      },
      "source": [
        "<a href=\"https://colab.research.google.com/github/park-hyun-wook/Chungnam_automobile_course_0623/blob/main/0627_python_dictionary.ipynb\" target=\"_parent\"><img src=\"https://colab.research.google.com/assets/colab-badge.svg\" alt=\"Open In Colab\"/></a>"
      ]
    },
    {
      "cell_type": "markdown",
      "source": [
        "# 1. 센서 데이터 필터링 - 안전 거리 이상의 장애물만 추출"
      ],
      "metadata": {
        "id": "UCCSISFYHyFH"
      }
    },
    {
      "cell_type": "code",
      "source": [
        "# 1. 센서 데이터 필터링 - 안전 거리 이상의 장애물만 추출\n",
        "sensor_distances = [2.5, 8.3, 1.2, 15.7, 3.8, 0.9, 12.4, 6.1]\n",
        "safe_distances = [dist for dist in sensor_distances if dist > 5.0]\n",
        "print(\"안전 거리 이상 장애물:\", safe_distances)\n",
        "\n"
      ],
      "metadata": {
        "colab": {
          "base_uri": "https://localhost:8080/"
        },
        "id": "jYRO2l8fHwKR",
        "outputId": "45d80e14-1960-41b5-904c-1bea10c2568c"
      },
      "execution_count": 1,
      "outputs": [
        {
          "output_type": "stream",
          "name": "stdout",
          "text": [
            "안전 거리 이상 장애물: [8.3, 15.7, 12.4, 6.1]\n"
          ]
        }
      ]
    },
    {
      "cell_type": "markdown",
      "source": [
        "# 2. 좌표 변환 - 상대 좌표를 절대 좌표로 변환"
      ],
      "metadata": {
        "id": "q9TIFjDgKfXa"
      }
    },
    {
      "cell_type": "code",
      "source": [
        "# 2. 좌표 변환 - 상대 좌표를 절대 좌표로 변환\n",
        "vehicle_position = (10, 20)  # 차량 현재 위치\n",
        "relative_points = [(1, 2), (-3, 4), (5, -1), (0, 3)]\n",
        "absolute_points = [(x + vehicle_position[0], y + vehicle_position[1])\n",
        "                   for x, y in relative_points]\n",
        "print(\"절대 좌표:\", absolute_points)\n",
        "\n"
      ],
      "metadata": {
        "colab": {
          "base_uri": "https://localhost:8080/"
        },
        "id": "rrrtxfHTKjiG",
        "outputId": "95dc3fe1-1a6f-434c-95ec-1e8a8e98b5fb"
      },
      "execution_count": 2,
      "outputs": [
        {
          "output_type": "stream",
          "name": "stdout",
          "text": [
            "절대 좌표: [(11, 22), (7, 24), (15, 19), (10, 23)]\n"
          ]
        }
      ]
    },
    {
      "cell_type": "markdown",
      "source": [],
      "metadata": {
        "id": "emCQNlgdK1gz"
      }
    },
    {
      "cell_type": "markdown",
      "source": [
        "# 3. 속도 제한 적용 - 각 구간별 최대 속도 제한\n",
        "\n"
      ],
      "metadata": {
        "id": "3lOWYv95L4iU"
      }
    },
    {
      "cell_type": "code",
      "source": [
        "# 3. 속도 제한 적용 - 각 구간별 최대 속도 제한\n",
        "current_speeds = [45, 75, 38, 82, 55, 95, 28]\n",
        "speed_limits = [50, 70, 40, 80, 60, 90, 30]\n",
        "adjusted_speeds = [min(current, limit)\n",
        "for current, limit in zip(current_speeds, speed_limits)]\n",
        "print(\"속도 제한 적용 후:\", adjusted_speeds)\n",
        "\n"
      ],
      "metadata": {
        "id": "vIkuBuB2K2WX"
      },
      "execution_count": null,
      "outputs": []
    },
    {
      "cell_type": "markdown",
      "source": [
        "# 4. 경로 포인트 생성 - 시작점과 끝점 사이의 중간 포인트들 생성"
      ],
      "metadata": {
        "id": "Q4BsSXKyM4gM"
      }
    },
    {
      "cell_type": "code",
      "source": [
        "# 4. 경로 포인트 생성 - 시작점과 끝점 사이의 중간 포인트들 생성\n",
        "start_point = (0, 0)\n",
        "end_point = (10, 8)\n",
        "num_points = 5\n",
        "path_points = [(start_point[0] + i * (end_point[0] - start_point[0]) / (num_points - 1),\n",
        "                start_point[1] + i * (end_point[1] - start_point[1]) / (num_points - 1))\n",
        "               for i in range(num_points)]\n",
        "print(\"경로 포인트들:\", path_points)\n"
      ],
      "metadata": {
        "id": "64dRTsIKM5aj"
      },
      "execution_count": null,
      "outputs": []
    },
    {
      "cell_type": "markdown",
      "source": [
        "# 5. 보너스: 조건부 다중 필터링 - 위험 상황 감지"
      ],
      "metadata": {
        "id": "04NDdoT6NGlj"
      }
    },
    {
      "cell_type": "code",
      "source": [
        "# 5. 보너스: 조건부 다중 필터링 - 위험 상황 감지\n",
        "sensor_data = [\n",
        "    {'type': 'lidar', 'distance': 3.2, 'angle': 45},\n",
        "    {'type': 'camera', 'distance': 8.5, 'angle': 0},\n",
        "    {'type': 'radar', 'distance': 1.8, 'angle': -30},\n",
        "    {'type': 'lidar', 'distance': 12.3, 'angle': 90}\n",
        "]\n",
        "\n",
        "danger_sensors = [sensor for sensor in sensor_data\n",
        "                  if sensor['distance'] < 5.0 and abs(sensor['angle']) < 60]\n",
        "print(\"위험 감지 센서:\", danger_sensors)\n"
      ],
      "metadata": {
        "id": "gGdyQxEWNG9n"
      },
      "execution_count": null,
      "outputs": []
    },
    {
      "cell_type": "markdown",
      "source": [
        "# 6. 신호등 색상별 행동 결정"
      ],
      "metadata": {
        "id": "baE-5OoUNY1e"
      }
    },
    {
      "cell_type": "code",
      "source": [
        "# 6. 신호등 색상별 행동 결정\n",
        "traffic_lights = [\n",
        "    {'color': 'red', 'time_left': 15},\n",
        "    {'color': 'green', 'time_left': 8},\n",
        "    {'color': 'yellow', 'time_left': 3},\n",
        "    {'color': 'green', 'time_left': 25}\n",
        "]\n",
        "\n",
        "stop_required = [light for light in traffic_lights\n",
        "                 if light['color'] == 'red' or\n",
        "                 (light['color'] == 'yellow' and light['time_left'] < 5)]\n",
        "print(\"정지 필요한 신호등:\", stop_required)\n",
        "\n"
      ],
      "metadata": {
        "id": "7wktnzwnNZZ9"
      },
      "execution_count": null,
      "outputs": []
    },
    {
      "cell_type": "markdown",
      "source": [
        "# 7. 배터리 잔량에 따른 충전소 필터링"
      ],
      "metadata": {
        "id": "rlZZiEl8NgLu"
      }
    },
    {
      "cell_type": "code",
      "source": [
        "# 7. 배터리 잔량에 따른 충전소 필터링\n",
        "charging_stations = [\n",
        "    {'name': '서울역', 'distance': 12, 'power': 'fast'},\n",
        "    {'name': '강남역', 'distance': 8, 'power': 'normal'},\n",
        "    {'name': '홍대입구', 'distance': 15, 'power': 'fast'},\n",
        "    {'name': '잠실역', 'distance': 5, 'power': 'slow'}\n",
        "]\n",
        "\n",
        "battery_percent = 15  # 배터리 15% 남음\n",
        "urgent_chargers = [station for station in charging_stations\n",
        "                   if station['distance'] < 10 and station['power'] != 'slow']\n",
        "print(\"긴급 충전 가능한 곳:\", urgent_chargers)\n",
        "\n"
      ],
      "metadata": {
        "id": "lnBv5MJeNgqN"
      },
      "execution_count": null,
      "outputs": []
    },
    {
      "cell_type": "markdown",
      "source": [
        "# 8. 주차 공간 크기 확인"
      ],
      "metadata": {
        "id": "ZnKMrLsxNq0I"
      }
    },
    {
      "cell_type": "code",
      "source": [
        "# 8. 주차 공간 크기 확인\n",
        "parking_spaces = [\n",
        "    {'id': 'A1', 'length': 4.8, 'width': 2.3, 'occupied': False},\n",
        "    {'id': 'A2', 'length': 5.2, 'width': 2.5, 'occupied': True},\n",
        "    {'id': 'B1', 'length': 4.5, 'width': 2.1, 'occupied': False},\n",
        "    {'id': 'B2', 'length': 5.5, 'width': 2.8, 'occupied': False}\n",
        "]\n",
        "\n",
        "vehicle_size = {'length': 4.7, 'width': 2.0}  # 내 차 크기\n",
        "suitable_spots = [spot for spot in parking_spaces\n",
        "                  if not spot['occupied'] and\n",
        "                  spot['length'] > vehicle_size['length'] and\n",
        "                  spot['width'] > vehicle_size['width']]\n",
        "print(\"주차 가능한 공간:\", suitable_spots)\n",
        "\n"
      ],
      "metadata": {
        "id": "AmGtnyJSNrQe"
      },
      "execution_count": null,
      "outputs": []
    },
    {
      "cell_type": "markdown",
      "source": [
        "# 9. 차선별 평균 속도 계산"
      ],
      "metadata": {
        "id": "42V79Ns6N8-g"
      }
    },
    {
      "cell_type": "code",
      "source": [
        "# 9. 차선별 평균 속도 계산\n",
        "lane_vehicles = [\n",
        "    {'lane': 1, 'speed': 65}, {'lane': 2, 'speed': 80}, {'lane': 1, 'speed': 70},\n",
        "    {'lane': 3, 'speed': 85}, {'lane': 2, 'speed': 75}, {'lane': 1, 'speed': 60},\n",
        "    {'lane': 3, 'speed': 90}, {'lane': 2, 'speed': 82}\n",
        "]\n",
        "\n"
      ],
      "metadata": {
        "id": "3sg5rfVQOAc_"
      },
      "execution_count": null,
      "outputs": []
    },
    {
      "cell_type": "markdown",
      "source": [
        "# 2차선 차량들의 속도만 추출"
      ],
      "metadata": {
        "id": "x-XOeOwVOQNy"
      }
    },
    {
      "cell_type": "code",
      "source": [
        "# 2차선 차량들의 속도만 추출\n",
        "lane2_speeds = [car['speed'] for car in lane_vehicles if car['lane'] == 2]\n",
        "lane2_avg = sum(lane2_speeds) / len(lane2_speeds)\n",
        "print(\"2차선 평균 속도:\", round(lane2_avg, 1), \"km/h\")\n",
        "\n"
      ],
      "metadata": {
        "id": "JrYYVMaxOSX4"
      },
      "execution_count": null,
      "outputs": []
    },
    {
      "cell_type": "markdown",
      "source": [
        "# 10. 야간/악천후 시 센서 상태 체크"
      ],
      "metadata": {
        "id": "HEiUHffOOcIR"
      }
    },
    {
      "cell_type": "code",
      "source": [
        "# 10. 야간/악천후 시 센서 상태 체크\n",
        "sensor_status = [\n",
        "    {'name': 'front_camera', 'visibility': 0.3, 'working': True},\n",
        "    {'name': 'rear_camera', 'visibility': 0.8, 'working': True},\n",
        "    {'name': 'side_lidar', 'visibility': 0.9, 'working': False},\n",
        "    {'name': 'front_radar', 'visibility': 0.7, 'working': True}\n",
        "]\n",
        "\n",
        "reliable_sensors = [sensor['name'] for sensor in sensor_status\n",
        "                    if sensor['working'] and sensor['visibility'] > 0.5]\n",
        "print(\"신뢰할 수 있는 센서:\", reliable_sensors)\n",
        "\n"
      ],
      "metadata": {
        "id": "SsLOiChaOciR"
      },
      "execution_count": null,
      "outputs": []
    }
  ]
}