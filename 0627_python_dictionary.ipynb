{
  "nbformat": 4,
  "nbformat_minor": 0,
  "metadata": {
    "colab": {
      "provenance": [],
      "authorship_tag": "ABX9TyNmf1sd5BZpEDhOJPnTXh96",
      "include_colab_link": true
    },
    "kernelspec": {
      "name": "python3",
      "display_name": "Python 3"
    },
    "language_info": {
      "name": "python"
    }
  },
  "cells": [
    {
      "cell_type": "markdown",
      "metadata": {
        "id": "view-in-github",
        "colab_type": "text"
      },
      "source": [
        "<a href=\"https://colab.research.google.com/github/park-hyun-wook/Chungnam_automobile_course_0623/blob/main/0627_python_dictionary.ipynb\" target=\"_parent\"><img src=\"https://colab.research.google.com/assets/colab-badge.svg\" alt=\"Open In Colab\"/></a>"
      ]
    },
    {
      "cell_type": "markdown",
      "source": [
        "# 1. 센서 데이터 필터링 - 안전 거리 이상의 장애물만 추출"
      ],
      "metadata": {
        "id": "UCCSISFYHyFH"
      }
    },
    {
      "cell_type": "code",
      "source": [
        "# 1. 센서 데이터 필터링 - 안전 거리 이상의 장애물만 추출\n",
        "sensor_distances = [2.5, 8.3, 1.2, 15.7, 3.8, 0.9, 12.4, 6.1]\n",
        "safe_distances = [dist for dist in sensor_distances if dist > 5.0]\n",
        "print(\"안전 거리 이상 장애물:\", safe_distances)\n",
        "\n"
      ],
      "metadata": {
        "colab": {
          "base_uri": "https://localhost:8080/"
        },
        "id": "jYRO2l8fHwKR",
        "outputId": "45d80e14-1960-41b5-904c-1bea10c2568c"
      },
      "execution_count": 1,
      "outputs": [
        {
          "output_type": "stream",
          "name": "stdout",
          "text": [
            "안전 거리 이상 장애물: [8.3, 15.7, 12.4, 6.1]\n"
          ]
        }
      ]
    }
  ]
}