{
  "nbformat": 4,
  "nbformat_minor": 0,
  "metadata": {
    "colab": {
      "provenance": [],
      "authorship_tag": "ABX9TyNZOOYiY8kwbUrGy1m6Ifsh",
      "include_colab_link": true
    },
    "kernelspec": {
      "name": "python3",
      "display_name": "Python 3"
    },
    "language_info": {
      "name": "python"
    }
  },
  "cells": [
    {
      "cell_type": "markdown",
      "metadata": {
        "id": "view-in-github",
        "colab_type": "text"
      },
      "source": [
        "<a href=\"https://colab.research.google.com/github/park-hyun-wook/Chungnam_automobile_course_0623/blob/main/numpy.ipynb\" target=\"_parent\"><img src=\"https://colab.research.google.com/assets/colab-badge.svg\" alt=\"Open In Colab\"/></a>"
      ]
    },
    {
      "cell_type": "markdown",
      "source": [
        "NumPy 시작하기"
      ],
      "metadata": {
        "id": "IaYBlRfLNSUl"
      }
    },
    {
      "cell_type": "markdown",
      "source": [
        "NumPy란 무엇인가요?\n",
        "NumPy는 배열을 다루는 데 사용되는 Python 라이브러리입니다.\n",
        "\n",
        "또한 선형 대수, 푸리에 변환, 행렬의 영역에서 작업하기 위한 함수도 갖추고 있습니다.\n",
        "\n",
        "\n",
        "왜 NumPy를 사용해야 하나요?\n",
        "파이썬에서는 배열의 역할을 하는 리스트가 있지만, 처리 속도가 느립니다.\n",
        "\n",
        "NumPy는 기존 Python 리스\n",
        "트보다 최대 50배 빠른 배열 객체를 제공하는 것을 목표로 합니다.\n",
        "\n",
        "NumPy의 배열 객체는 라고 불리며 ndarray, 작업을 매우 쉽게 만드는 많은 지원 함수를 제공합니다 ndarray."
      ],
      "metadata": {
        "id": "FqavVFDpLfk1"
      }
    },
    {
      "cell_type": "code",
      "source": [
        "import numpy\n",
        "\n",
        "arr = numpy.array([1, 2, 3, 4, 5])\n",
        "\n",
        "print(arr)\n"
      ],
      "metadata": {
        "colab": {
          "base_uri": "https://localhost:8080/"
        },
        "id": "6KGrc0TZMAsn",
        "outputId": "15b46994-dffd-4bd8-ef2f-f91c77dcb65a"
      },
      "execution_count": 1,
      "outputs": [
        {
          "output_type": "stream",
          "name": "stdout",
          "text": [
            "[1 2 3 4 5]\n"
          ]
        }
      ]
    },
    {
      "cell_type": "markdown",
      "source": [
        "NumPy 버전 확인\n",
        "버전 문자열은 __version__ 속성에 저장됩니다."
      ],
      "metadata": {
        "id": "sMYYBLHNNGJU"
      }
    },
    {
      "cell_type": "code",
      "source": [
        "import numpy as np\n",
        "\n",
        "print(np.__version__)"
      ],
      "metadata": {
        "colab": {
          "base_uri": "https://localhost:8080/"
        },
        "id": "AEbicX65NCOr",
        "outputId": "45d66c1f-c00e-458f-eec8-d5fec08fc902"
      },
      "execution_count": 2,
      "outputs": [
        {
          "output_type": "stream",
          "name": "stdout",
          "text": [
            "2.0.2\n"
          ]
        }
      ]
    },
    {
      "cell_type": "markdown",
      "source": [
        "NumPy 배열 생성"
      ],
      "metadata": {
        "id": "nrrjNiShNKEe"
      }
    },
    {
      "cell_type": "markdown",
      "source": [
        "NumPy ndarray 객체 생성\n",
        "NumPy는 배열을 다루는 데 사용됩니다. NumPy의 배열 객체는 ndarray.\n",
        "\n",
        "ndarray함수를 사용하여 NumPy 객체를 생성할 수 있습니다 array()."
      ],
      "metadata": {
        "id": "vlpuscibNcZU"
      }
    },
    {
      "cell_type": "code",
      "source": [
        "import numpy as np\n",
        "\n",
        "arr = np.array([1, 2, 3, 4, 5])\n",
        "\n",
        "print(arr)\n",
        "\n",
        "print(type(arr))"
      ],
      "metadata": {
        "colab": {
          "base_uri": "https://localhost:8080/"
        },
        "id": "h5ujF-ePNg1D",
        "outputId": "1cf602a8-a15e-4ab0-fc90-3ad0ff4042d3"
      },
      "execution_count": 3,
      "outputs": [
        {
          "output_type": "stream",
          "name": "stdout",
          "text": [
            "[1 2 3 4 5]\n",
            "<class 'numpy.ndarray'>\n"
          ]
        }
      ]
    },
    {
      "cell_type": "markdown",
      "source": [
        "type(): 이 Python 내장 함수는 전달된 객체의 타입을 알려줍니다. 위 코드처럼 객체의 타입을 보여 arr줍니다\n",
        "\n",
        "\n"
      ],
      "metadata": {
        "id": "0ddcMjlVN1v6"
      }
    },
    {
      "cell_type": "markdown",
      "source": [
        "numpy.ndarray.를 생성하려면 ndarray목록, 튜플 또는 배열과 같은 객체를 메서드에 전달하면 array() 다음과 같이 변환됩니다 ndarray."
      ],
      "metadata": {
        "id": "jg1A7aRjOE3E"
      }
    },
    {
      "cell_type": "markdown",
      "source": [
        "튜플을 사용하여 NumPy 배열을 생성합니다."
      ],
      "metadata": {
        "id": "ZTygTvY2OVCT"
      }
    },
    {
      "cell_type": "code",
      "source": [
        "import numpy as np\n",
        "\n",
        "arr = np.array((1, 2, 3, 4, 5))\n",
        "\n",
        "print(arr)"
      ],
      "metadata": {
        "colab": {
          "base_uri": "https://localhost:8080/"
        },
        "id": "JdZad5rxOIR1",
        "outputId": "45147189-9289-49f2-c7c2-e19381ded797"
      },
      "execution_count": 4,
      "outputs": [
        {
          "output_type": "stream",
          "name": "stdout",
          "text": [
            "[1 2 3 4 5]\n"
          ]
        }
      ]
    },
    {
      "cell_type": "markdown",
      "source": [
        "배열의 차원\n",
        "배열의 차원은 배열 깊이(중첩 배열)의 한 수준입니다.\n",
        "\n",
        "중첩 배열: 배열을 요소로 갖는 배열입니다."
      ],
      "metadata": {
        "id": "9dpsV2HCO77D"
      }
    },
    {
      "cell_type": "markdown",
      "source": [
        "NumPy 배열 인덱싱"
      ],
      "metadata": {
        "id": "R6WwmKMTPC-K"
      }
    },
    {
      "cell_type": "markdown",
      "source": [
        "배열 요소에 액세스\n",
        "배열 인덱싱은 배열 요소에 액세스하는 것과 같습니다.\n",
        "\n",
        "배열 요소에 접근하려면 인덱스 번호를 참조하면 됩니다.\n",
        "\n",
        "NumPy 배열의 인덱스는 0부터 시작합니다. 즉, 첫 번째 요소의 인덱스는 0이고, 두 번째 요소의 인덱스는 1입니다."
      ],
      "metadata": {
        "id": "A_os5oqpPGD1"
      }
    },
    {
      "cell_type": "markdown",
      "source": [
        "예나만의 Python 서버를 얻으세요\n",
        "다음 배열에서 첫 번째 요소를 가져옵니다."
      ],
      "metadata": {
        "id": "Dhp1E1GcPJam"
      }
    },
    {
      "cell_type": "code",
      "source": [
        "import numpy as np\n",
        "\n",
        "arr = np.array([1, 2, 3, 4])\n",
        "\n",
        "print(arr[0])"
      ],
      "metadata": {
        "colab": {
          "base_uri": "https://localhost:8080/"
        },
        "id": "VixxMQoWPMSD",
        "outputId": "d2289667-9d46-4358-a719-15f31f2d4e4a"
      },
      "execution_count": 5,
      "outputs": [
        {
          "output_type": "stream",
          "name": "stdout",
          "text": [
            "1\n"
          ]
        }
      ]
    },
    {
      "cell_type": "markdown",
      "source": [
        "다음 배열에서 두 번째 요소를 가져옵니다."
      ],
      "metadata": {
        "id": "RBUna52QPQ8e"
      }
    },
    {
      "cell_type": "code",
      "source": [
        "import numpy as np\n",
        "\n",
        "arr = np.array([1, 2, 3, 4])\n",
        "\n",
        "print(arr[1])"
      ],
      "metadata": {
        "colab": {
          "base_uri": "https://localhost:8080/"
        },
        "id": "_jOwMkraPTND",
        "outputId": "45959612-4245-4142-cbc6-1d47673df2b8"
      },
      "execution_count": 6,
      "outputs": [
        {
          "output_type": "stream",
          "name": "stdout",
          "text": [
            "2\n"
          ]
        }
      ]
    },
    {
      "cell_type": "markdown",
      "source": [
        "다음 배열에서 세 번째와 네 번째 요소를 가져와 추가합니다."
      ],
      "metadata": {
        "id": "qolgR81pPVrG"
      }
    },
    {
      "cell_type": "code",
      "source": [
        "import numpy as np\n",
        "\n",
        "arr = np.array([1, 2, 3, 4])\n",
        "\n",
        "print(arr[2] + arr[3])"
      ],
      "metadata": {
        "colab": {
          "base_uri": "https://localhost:8080/"
        },
        "id": "zI6WUtZHPWLG",
        "outputId": "376302a9-5d13-442f-b243-32d06c4ee026"
      },
      "execution_count": 7,
      "outputs": [
        {
          "output_type": "stream",
          "name": "stdout",
          "text": [
            "7\n"
          ]
        }
      ]
    },
    {
      "cell_type": "markdown",
      "source": [
        "2차원 배열에 접근하기\n",
        "2차원 배열의 요소에 접근하려면 차원과 요소의 인덱스를 나타내는 쉼표로 구분된 정수를 사용할 수 있습니다.\n",
        "\n",
        "2차원 배열은 행과 열이 있는 표와 같다고 생각하시면 됩니다. 여기서 차원은 행을 나타내고 인덱스는 열을 나타냅니다."
      ],
      "metadata": {
        "id": "z80v_op0PeQd"
      }
    },
    {
      "cell_type": "markdown",
      "source": [
        "첫 번째 행, 두 번째 열의 요소에 접근합니다."
      ],
      "metadata": {
        "id": "E9g1nBc1PhIk"
      }
    },
    {
      "cell_type": "code",
      "source": [
        "import numpy as np\n",
        "\n",
        "arr = np.array([[1,2,3,4,5], [6,7,8,9,10]])\n",
        "\n",
        "print('2nd element on 1st row: ', arr[0, 1])"
      ],
      "metadata": {
        "colab": {
          "base_uri": "https://localhost:8080/"
        },
        "id": "km4cpR3QPjUt",
        "outputId": "146507a4-5e0b-4763-d6fc-0a8c81f03301"
      },
      "execution_count": 8,
      "outputs": [
        {
          "output_type": "stream",
          "name": "stdout",
          "text": [
            "2nd element on 1st row:  2\n"
          ]
        }
      ]
    },
    {
      "cell_type": "markdown",
      "source": [
        "2번째 행, 5번째 열의 요소에 접근합니다."
      ],
      "metadata": {
        "id": "hcf5nVE2PoBb"
      }
    },
    {
      "cell_type": "code",
      "source": [
        "import numpy as np\n",
        "\n",
        "arr = np.array([[1,2,3,4,5], [6,7,8,9,10]])\n",
        "\n",
        "print('5th element on 2nd row: ', arr[1, 4])"
      ],
      "metadata": {
        "colab": {
          "base_uri": "https://localhost:8080/"
        },
        "id": "Vrl0C3JtPq8n",
        "outputId": "cc338b30-5934-41c8-f6bd-886673f2ee0c"
      },
      "execution_count": 9,
      "outputs": [
        {
          "output_type": "stream",
          "name": "stdout",
          "text": [
            "5th element on 2nd row:  10\n"
          ]
        }
      ]
    },
    {
      "cell_type": "markdown",
      "source": [
        "3차원 배열에 접근\n",
        "3차원 배열의 요소에 접근하려면 차원과 요소의 인덱스를 나타내는 쉼표로 구분된 정수를 사용할 수 있습니다."
      ],
      "metadata": {
        "id": "KZxr-KyGPtgr"
      }
    },
    {
      "cell_type": "markdown",
      "source": [
        "첫 번째 배열의 두 번째 배열의 세 번째 요소에 접근합니다."
      ],
      "metadata": {
        "id": "iHqhaKBxPuKd"
      }
    },
    {
      "cell_type": "code",
      "source": [
        "import numpy as np\n",
        "\n",
        "arr = np.array([[[1, 2, 3], [4, 5, 6]], [[7, 8, 9], [10, 11, 12]]])\n",
        "\n",
        "print(arr[0, 1, 2])"
      ],
      "metadata": {
        "colab": {
          "base_uri": "https://localhost:8080/"
        },
        "id": "LTf_1W0ZPwij",
        "outputId": "6ac65afb-813a-4466-8b1e-ed907d2c0c37"
      },
      "execution_count": 10,
      "outputs": [
        {
          "output_type": "stream",
          "name": "stdout",
          "text": [
            "6\n"
          ]
        }
      ]
    },
    {
      "cell_type": "markdown",
      "source": [
        "예시 설명\n",
        "arr[0, 1, 2]값을 출력합니다 6.\n",
        "\n",
        "그 이유는 다음과 같습니다.\n",
        "\n",
        "첫 번째 숫자는 두 개의 배열\n",
        "[[1, 2, 3], [4, 5, 6]]\n",
        "과\n",
        "[[7, 8, 9], [10, 11, 12]] 을 포함하는 첫 번째 차원을 나타\n",
        "냅니다. 를 선택했으므로 0첫 번째 배열\n",
        "[[1, 2, 3], [4, 5, 6]]이 남습니다.\n",
        "\n",
        "두 번째 숫자는 두 개의 배열\n",
        "[1, 2, 3]\n",
        "과\n",
        "[4, 5, 6] 을 포함하는 두 번째 차원을 나타냅니다.\n",
        "를 선택했으므로 두 번째 배열 [4, 5, 6]이 1남습니다.\n",
        "\n",
        "세 번째 숫자는 세 개의 값(\n",
        "4,\n",
        "5,\n",
        "6) 을 포함하는 세 번째 차원을 나타냅니다.\n",
        "를 선택했으므로 세 번째 값( 6) 2이 됩니다."
      ],
      "metadata": {
        "id": "89v7f9qjQMe1"
      }
    },
    {
      "cell_type": "markdown",
      "source": [
        "음수 인덱싱\n",
        "배열의 끝에서 접근하려면 음수 인덱싱을 사용합니다."
      ],
      "metadata": {
        "id": "RJzywxXuQO9E"
      }
    },
    {
      "cell_type": "markdown",
      "source": [
        "2번째 차원의 마지막 요소를 출력합니다."
      ],
      "metadata": {
        "id": "QX9ZbAWKQRdk"
      }
    },
    {
      "cell_type": "code",
      "source": [
        "import numpy as np\n",
        "\n",
        "arr = np.array([[1,2,3,4,5], [6,7,8,9,10]])\n",
        "\n",
        "print('Last element from 2nd dim: ', arr[1, -1])"
      ],
      "metadata": {
        "colab": {
          "base_uri": "https://localhost:8080/"
        },
        "id": "W6edgLH1QTuD",
        "outputId": "26a8dbc8-9171-4333-8f68-cb3cc26c4155"
      },
      "execution_count": 11,
      "outputs": [
        {
          "output_type": "stream",
          "name": "stdout",
          "text": [
            "Last element from 2nd dim:  10\n"
          ]
        }
      ]
    },
    {
      "cell_type": "markdown",
      "source": [
        "NumPy 배열 슬라이싱"
      ],
      "metadata": {
        "id": "Lj7kYL5pQaXN"
      }
    },
    {
      "cell_type": "markdown",
      "source": [
        "배열 슬라이싱\n",
        "파이썬에서 슬라이싱은 주어진 인덱스에서 다른 주어진 인덱스로 요소를 옮기는 것을 의미합니다.\n",
        "\n",
        "인덱스 대신 슬라이스를 이렇게 전달합니다: .[start:end]\n",
        "\n",
        "다음과 같이 단계를 정의할 수도 있습니다 .[start:end:step]\n",
        "\n",
        "시작을 통과하지 못하면 0으로 간주됩니다.\n",
        "\n",
        "우리가 end를 전달하지 않으면 해당 차원의 배열의 길이가 고려됩니다.\n",
        "\n",
        "만약 우리가 단계를 통과하지 못한다면 그것은 1로 간주됩니다"
      ],
      "metadata": {
        "id": "s8Q0znviQdVc"
      }
    },
    {
      "cell_type": "markdown",
      "source": [
        "다음 배열에서 인덱스 1부터 인덱스 5까지의 요소를 슬라이스합니다."
      ],
      "metadata": {
        "id": "ycC4iDI0QfYt"
      }
    },
    {
      "cell_type": "code",
      "source": [
        "import numpy as np\n",
        "\n",
        "arr = np.array([1, 2, 3, 4, 5, 6, 7])\n",
        "\n",
        "print(arr[1:5])"
      ],
      "metadata": {
        "id": "hyzBuF9gQg3r"
      },
      "execution_count": null,
      "outputs": []
    },
    {
      "cell_type": "markdown",
      "source": [
        "참고: 결과 에 시작 인덱스는 포함되지만 , 끝 인덱스는 제외됩니다 ."
      ],
      "metadata": {
        "id": "R3n89ugUQnVp"
      }
    },
    {
      "cell_type": "markdown",
      "source": [
        "배열의 인덱스 4부터 끝까지 요소를 슬라이스합니다."
      ],
      "metadata": {
        "id": "CC8xiDu4QpXs"
      }
    },
    {
      "cell_type": "code",
      "source": [
        "import numpy as np\n",
        "\n",
        "arr = np.array([1, 2, 3, 4, 5, 6, 7])\n",
        "\n",
        "print(arr[4:])"
      ],
      "metadata": {
        "id": "ajQP1wXDQs4G"
      },
      "execution_count": null,
      "outputs": []
    },
    {
      "cell_type": "markdown",
      "source": [
        "시작부터 인덱스 4까지 요소를 슬라이스합니다(포함되지 않음):"
      ],
      "metadata": {
        "id": "CpuDL2QaQvrd"
      }
    },
    {
      "cell_type": "code",
      "source": [
        "import numpy as np\n",
        "\n",
        "arr = np.array([1, 2, 3, 4, 5, 6, 7])\n",
        "\n",
        "print(arr[:4])"
      ],
      "metadata": {
        "id": "ZzAlHoGFQxbj"
      },
      "execution_count": null,
      "outputs": []
    },
    {
      "cell_type": "markdown",
      "source": [
        "네거티브 슬라이싱\n",
        "빼기 연산자를 사용하여 끝에서부터 인덱스를 참조합니다."
      ],
      "metadata": {
        "id": "eZKy963PRHAr"
      }
    },
    {
      "cell_type": "markdown",
      "source": [
        "끝에서 3번째 인덱스부터 끝에서 1번째 인덱스까지 슬라이스합니다."
      ],
      "metadata": {
        "id": "PYIQhuO3RJZ8"
      }
    },
    {
      "cell_type": "code",
      "source": [
        "import numpy as np\n",
        "\n",
        "arr = np.array([1, 2, 3, 4, 5, 6, 7])\n",
        "\n",
        "print(arr[-3:-1])"
      ],
      "metadata": {
        "colab": {
          "base_uri": "https://localhost:8080/"
        },
        "id": "9L5egosvRLuk",
        "outputId": "870b553a-9cab-4556-be14-7486f1f1dec8"
      },
      "execution_count": 12,
      "outputs": [
        {
          "output_type": "stream",
          "name": "stdout",
          "text": [
            "[5 6]\n"
          ]
        }
      ]
    },
    {
      "cell_type": "markdown",
      "source": [
        "단계\n",
        "값을 사용하여 step슬라이싱 단계를 결정합니다."
      ],
      "metadata": {
        "id": "d6tqbx7OROXV"
      }
    },
    {
      "cell_type": "markdown",
      "source": [
        "인덱스 1부터 인덱스 5까지 다른 모든 요소를 ​​반환합니다."
      ],
      "metadata": {
        "id": "qh3hdpbyRRcv"
      }
    },
    {
      "cell_type": "markdown",
      "source": [
        "import numpy as np\n",
        "\n",
        "arr = np.array([1, 2, 3, 4, 5, 6, 7])\n",
        "\n",
        "print(arr[1:5:2])"
      ],
      "metadata": {
        "id": "DYmW2BGbRUkE"
      }
    }
  ]
}