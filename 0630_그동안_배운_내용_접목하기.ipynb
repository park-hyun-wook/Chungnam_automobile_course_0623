{
  "nbformat": 4,
  "nbformat_minor": 0,
  "metadata": {
    "colab": {
      "provenance": [],
      "authorship_tag": "ABX9TyPvcKBUD7o9ZaPp2PPK7H9R",
      "include_colab_link": true
    },
    "kernelspec": {
      "name": "python3",
      "display_name": "Python 3"
    },
    "language_info": {
      "name": "python"
    }
  },
  "cells": [
    {
      "cell_type": "markdown",
      "metadata": {
        "id": "view-in-github",
        "colab_type": "text"
      },
      "source": [
        "<a href=\"https://colab.research.google.com/github/park-hyun-wook/Chungnam_automobile_course_0623/blob/main/0630_%EA%B7%B8%EB%8F%99%EC%95%88_%EB%B0%B0%EC%9A%B4_%EB%82%B4%EC%9A%A9_%EC%A0%91%EB%AA%A9%ED%95%98%EA%B8%B0.ipynb\" target=\"_parent\"><img src=\"https://colab.research.google.com/assets/colab-badge.svg\" alt=\"Open In Colab\"/></a>"
      ]
    },
    {
      "cell_type": "markdown",
      "source": [
        "# 센서 데이터 (거리 측정값, 단위: 미터)"
      ],
      "metadata": {
        "id": "hiMPKSvlZStO"
      }
    },
    {
      "cell_type": "code",
      "execution_count": 9,
      "metadata": {
        "colab": {
          "base_uri": "https://localhost:8080/"
        },
        "id": "WE0KGp_EYQMg",
        "outputId": "fa22cd7e-d09e-4b94-ef65-08fbd84fb0a7"
      },
      "outputs": [
        {
          "output_type": "stream",
          "name": "stdout",
          "text": [
            "🚗 자율주행 장애물 감지 시스템\n",
            "------------------------------\n",
            "\n",
            "🚨 감지된 장애물: ['앞', '오른쪽']\n"
          ]
        }
      ],
      "source": [
        "# 센서 데이터 (거리 측정값, 단위: 미터)\n",
        "sensors = {\n",
        " \"앞\": 8.0,\n",
        " \"왼쪽\": 15.0,\n",
        " \"오른쪽\": 4.0\n",
        "}\n",
        "# 안전 거리 설정\n",
        "safe_distance = 10.0\n",
        "if __name__ == \"__main__\":\n",
        "  print(\"🚗 자율주행 장애물 감지 시스템\")\n",
        "  print(\"-\" * 30)\n",
        "\n",
        "# 장애물 감지\n",
        "  obstacles = []\n",
        "  for direction, distance in sensors.items():\n",
        "    if distance < safe_distance:\n",
        "       obstacles.append(direction)\n",
        "\n",
        "print(f\"\\n🚨 감지된 장애물: {obstacles}\")"
      ]
    },
    {
      "cell_type": "markdown",
      "source": [
        "1"
      ],
      "metadata": {
        "id": "MXAkrIAeiGX8"
      }
    },
    {
      "cell_type": "code",
      "source": [
        "# 센서 데이터 (거리 측정값, 단위 : 미터)\n",
        "sensors ={\n",
        "  \"앞\": 8.0,\n",
        "  \"왼쪽\": 15.0,\n",
        "  \"오른쪽\": 4.0\n",
        "}\n",
        "# 안전 거리 설정\n",
        "safe_distance = 10.0\n",
        "#장애물 감지 함수 정의, 센서 데이터와 안전거리가 변해도 동작하도록 했다.\n",
        "def dicision(sensors,safe_distance):\n",
        "    obstacles = []\n",
        "    for direction, distance in sensors.items(): #.items() 메소드로 딕셔너리를 튜플로 쪼갬.\n",
        "        if distance < safe_distance:\n",
        "           obstacles. append (direction)\n",
        "if __name__ == \"__main__\":\n",
        "     print(\": red_car: 자율주행 장애물 감지 시스템\")\n",
        "     print (\"-\" * 30)\n",
        "     dicision(sensors, safe_distance) # main 밖에서 정의된 함수를 호출하는게 더 나은 코드.\n",
        "     print(f\"n:rotating_light: 감지된 장애물: {obstacles}\")"
      ],
      "metadata": {
        "colab": {
          "base_uri": "https://localhost:8080/"
        },
        "id": "6Z7nywq7bjAr",
        "outputId": "b244c794-c6fe-40b8-a177-a1c85c6d6b62"
      },
      "execution_count": 12,
      "outputs": [
        {
          "output_type": "stream",
          "name": "stdout",
          "text": [
            ": red_car: 자율주행 장애물 감지 시스템\n",
            "------------------------------\n",
            "n:rotating_light: 감지된 장애물: ['앞', '오른쪽']\n"
          ]
        }
      ]
    },
    {
      "cell_type": "markdown",
      "source": [],
      "metadata": {
        "id": "CSDzSrcLy4qU"
      }
    },
    {
      "cell_type": "markdown",
      "source": [
        "2"
      ],
      "metadata": {
        "id": "vMnF07Ydy39G"
      }
    },
    {
      "cell_type": "code",
      "source": [
        "# 센서 데이터 (거리 측정값, 단위: 미터)\n",
        "sensors = {\n",
        " \"앞\": 8.0,\n",
        " \"왼쪽\": 15.0,\n",
        " \"오른쪽\": 4.0\n",
        "}\n",
        "# 안전 거리 설정\n",
        "safe_distance = 10.0\n",
        "if __name__ == \"__main__\":\n",
        "  print(\"🚗 자율주행 장애물 감지 시스템\")\n",
        "  print(\"-\" * 30)\n",
        "\n",
        "# 장애물 감지\n",
        "  obstacles = []\n",
        "  for direction, distance in sensors.items():\n",
        "    if distance < safe_distance:\n",
        "       obstacles.append(direction)# 행동 결정\n",
        "    if len(obstacles) == 0:\n",
        "      action=\"직진\"\n",
        "    elif \"앞\" in obstacles:\n",
        "       if\"왼쪽\" not in obstacles:\n",
        "          action = \"좌회전\"\n",
        "\n",
        "       elif \"오른쪽\" not in obstacles:\n",
        "           action = \"우회전\"\n",
        "       else:\n",
        "        action=\"정지\"\n",
        "    else:\n",
        "        action=\"주의해서 직진\"\n",
        "print(f\" 결정된 행동:{action}\")"
      ],
      "metadata": {
        "colab": {
          "base_uri": "https://localhost:8080/"
        },
        "id": "IL3rZ9O3iP_Y",
        "outputId": "a6733ef5-2646-4af1-e590-545cd7f3440c"
      },
      "execution_count": 13,
      "outputs": [
        {
          "output_type": "stream",
          "name": "stdout",
          "text": [
            "🚗 자율주행 장애물 감지 시스템\n",
            "------------------------------\n",
            " 결정된 행동:좌회전\n"
          ]
        }
      ]
    },
    {
      "cell_type": "markdown",
      "source": [
        "3"
      ],
      "metadata": {
        "id": "0naXTumay6Tl"
      }
    },
    {
      "cell_type": "code",
      "source": [
        "# 센서 데이터 (거리 측정값, 단위: 미터)\n",
        "sensors = {\n",
        "    \"앞\": 8.0,\n",
        "    \"왼쪽\": 15.0,\n",
        "    \"오른쪽\": 4.0\n",
        "}\n",
        "\n",
        "# 안전 거리 기준 (미터)\n",
        "safe_distance = 10.0\n",
        "\n",
        "# 장애물 감지 함수\n",
        "def obstacles_decision(sensors, safe_distance):\n",
        "    obstacles = []\n",
        "    for direction, distance in sensors.items():\n",
        "        if distance < safe_distance:\n",
        "            obstacles.append(direction)\n",
        "    return obstacles\n",
        "\n",
        "# 행동 결정 함수\n",
        "def action_decision(obstacles):\n",
        "    if len(obstacles) == 0:\n",
        "        action = \"직진\"\n",
        "    elif \"앞\" in obstacles:\n",
        "        if \"왼쪽\" not in obstacles:\n",
        "            action = \"좌회전\"\n",
        "        elif \"오른쪽\" not in obstacles:\n",
        "            action = \"우회전\"\n",
        "        else:\n",
        "            action = \"정지\"\n",
        "    else:\n",
        "        action = \"주의해서 직진\"\n",
        "    return action\n",
        "\n",
        "# 메인 실행 부분\n",
        "if __name__ == \"__main__\":\n",
        "    print(\"🚗 자율주행 장애물 감지 시스템\")\n",
        "    print(\"-\" * 30)\n",
        "\n",
        "    # 장애물 감지\n",
        "    obstacles = obstacles_decision(sensors, safe_distance)\n",
        "    print(f\"\\n🔍 감지된 장애물: {obstacles}\")\n",
        "\n",
        "    # 행동 결정\n",
        "    action = action_decision(obstacles)\n",
        "    print(f\"🎯 결정된 행동: {action}\")\n"
      ],
      "metadata": {
        "colab": {
          "base_uri": "https://localhost:8080/"
        },
        "id": "QU_o7XPEy7D9",
        "outputId": "cd607c73-193d-446f-c39e-20169b2eed04"
      },
      "execution_count": 14,
      "outputs": [
        {
          "output_type": "stream",
          "name": "stdout",
          "text": [
            "🚗 자율주행 장애물 감지 시스템\n",
            "------------------------------\n",
            "\n",
            "🔍 감지된 장애물: ['앞', '오른쪽']\n",
            "🎯 결정된 행동: 좌회전\n"
          ]
        }
      ]
    }
  ]
}